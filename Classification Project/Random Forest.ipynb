{
 "cells": [
  {
   "cell_type": "code",
   "execution_count": 19,
   "id": "46a3694f",
   "metadata": {},
   "outputs": [],
   "source": [
    "import pandas as pd\n",
    "from sklearn.model_selection import train_test_split\n",
    "from sklearn.ensemble import RandomForestClassifier\n",
    "from sklearn.metrics import accuracy_score, precision_score, recall_score, confusion_matrix, classification_report\n",
    "from sklearn.impute import SimpleImputer\n",
    "\n",
    "# Load the dataset\n",
    "file_path = 'C:/Users/marya/OneDrive/Desktop/Classification_project1/preprocessed_green_tripdata_2015-07.csv'\n",
    "data = pd.read_csv(file_path)\n",
    "\n",
    "# Create the price_category column based on total_amount quantiles\n",
    "quantiles = data['total_amount'].quantile([0.33, 0.66])\n",
    "def categorize_price(amount):\n",
    "    if amount <= quantiles[0.33]:\n",
    "        return 'Low'\n",
    "    elif amount <= quantiles[0.66]:\n",
    "        return 'Medium'\n",
    "    else:\n",
    "        return 'High'\n",
    "\n",
    "data['price_category'] = data['total_amount'].apply(categorize_price)\n",
    "\n",
    "# Separate the target variable before encoding\n",
    "y = data['price_category']\n",
    "\n",
    "# Drop or convert non-numeric columns\n",
    "non_numeric_columns = ['lpep_pickup_datetime', 'lpep_dropoff_datetime', 'store_and_fwd_flag', 'pickup_datetime', 'dropoff_datetime']\n",
    "data = data.drop(columns=non_numeric_columns)\n",
    "\n",
    "# Convert categorical variables to numeric using one-hot encoding\n",
    "X = pd.get_dummies(data.drop('price_category', axis=1), drop_first=True)\n",
    "\n",
    "# Check for missing values and impute them\n",
    "imputer = SimpleImputer(strategy='mean')\n",
    "X = imputer.fit_transform(X)\n",
    "\n",
    "# Split the data into training and testing sets\n",
    "X_train, X_test, y_train, y_test = train_test_split(X, y, test_size=0.2, random_state=42)\n"
   ]
  },
  {
   "cell_type": "code",
   "execution_count": 20,
   "id": "dc88913a",
   "metadata": {},
   "outputs": [],
   "source": [
    "# Initialize the Random Forest classifier\n",
    "rf_classifier = RandomForestClassifier(n_estimators=100, random_state=42)\n",
    "\n",
    "# Train the classifier\n",
    "rf_classifier.fit(X_train, y_train)\n",
    "\n",
    "# Make predictions\n",
    "y_pred = rf_classifier.predict(X_test)"
   ]
  },
  {
   "cell_type": "code",
   "execution_count": 21,
   "id": "8fa401b9",
   "metadata": {},
   "outputs": [
    {
     "name": "stdout",
     "output_type": "stream",
     "text": [
      "Class  Accuracy  Precision    Recall\n",
      "0     Low  0.999954  1.000000\n",
      "1     Medium  0.999898  0.999949\n",
      "2     High  1.000000  0.999902\n",
      "Testing Accuracy: 0.9999513334631107\n",
      "Testing Precision: 0.9999513358697651\n",
      "Testing Recall: 0.9999513334631107\n",
      "Confusion Matrix:\n",
      "[[20395     0     2]\n",
      " [    0 21688     0]\n",
      " [    0     1 19558]]\n",
      "True Low:  20395 False Medium:  0 False High:  2\n",
      "False Low:  0 True Medium:  21688 False High:  0\n",
      "False Low:  0 False Medium:  1 True High:  19558\n"
     ]
    }
   ],
   "source": [
    "# Evaluate the classifier\n",
    "accuracy = accuracy_score(y_test, y_pred)\n",
    "precision = precision_score(y_test, y_pred, average='weighted', zero_division=0)\n",
    "recall = recall_score(y_test, y_pred, average='weighted')\n",
    "\n",
    "# Generate classification report\n",
    "class_report = classification_report(y_test, y_pred, output_dict=True)\n",
    "report_df = pd.DataFrame(class_report).transpose()\n",
    "\n",
    "# Generate confusion matrix\n",
    "conf_matrix = confusion_matrix(y_test, y_pred)\n",
    "\n",
    "# Display the results\n",
    "print(\"Class  Accuracy  Precision    Recall\")\n",
    "for i, category in enumerate(['Low', 'Medium', 'High']):\n",
    "    print(f\"{i}     {category}  {report_df.loc[category, 'precision']:.6f}  {report_df.loc[category, 'recall']:.6f}\")\n",
    "\n",
    "print(f\"Testing Accuracy: {accuracy}\")\n",
    "print(f\"Testing Precision: {precision}\")\n",
    "print(f\"Testing Recall: {recall}\")\n",
    "print(\"Confusion Matrix:\")\n",
    "print(conf_matrix)\n",
    "\n",
    "# Detailed confusion matrix breakdown\n",
    "print(f\"True Low:  {conf_matrix[0, 0]} False Medium:  {conf_matrix[0, 1]} False High:  {conf_matrix[0, 2]}\")\n",
    "print(f\"False Low:  {conf_matrix[1, 0]} True Medium:  {conf_matrix[1, 1]} False High:  {conf_matrix[1, 2]}\")\n",
    "print(f\"False Low:  {conf_matrix[2, 0]} False Medium:  {conf_matrix[2, 1]} True High:  {conf_matrix[2, 2]}\")"
   ]
  },
  {
   "cell_type": "code",
   "execution_count": null,
   "id": "c18c06d8",
   "metadata": {},
   "outputs": [],
   "source": []
  }
 ],
 "metadata": {
  "kernelspec": {
   "display_name": "Python 3 (ipykernel)",
   "language": "python",
   "name": "python3"
  },
  "language_info": {
   "codemirror_mode": {
    "name": "ipython",
    "version": 3
   },
   "file_extension": ".py",
   "mimetype": "text/x-python",
   "name": "python",
   "nbconvert_exporter": "python",
   "pygments_lexer": "ipython3",
   "version": "3.10.9"
  }
 },
 "nbformat": 4,
 "nbformat_minor": 5
}
