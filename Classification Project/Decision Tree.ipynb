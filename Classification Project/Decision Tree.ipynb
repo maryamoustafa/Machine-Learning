{
 "cells": [
  {
   "cell_type": "code",
   "execution_count": 1,
   "id": "26833722",
   "metadata": {},
   "outputs": [],
   "source": [
    "import pandas as pd\n",
    "import numpy as np\n",
    "from collections import Counter\n",
    "from sklearn.preprocessing import StandardScaler\n",
    "from sklearn.decomposition import PCA\n",
    "from sklearn.model_selection import train_test_split\n",
    "from sklearn.metrics import accuracy_score, precision_score, recall_score, confusion_matrix"
   ]
  },
  {
   "cell_type": "code",
   "execution_count": 2,
   "id": "84fa2f6c",
   "metadata": {},
   "outputs": [],
   "source": [
    "# Function to calculate entropy\n",
    "def entropy(y):\n",
    "    counter = Counter(y)\n",
    "    total = len(y)\n",
    "    return -sum((count / total) * np.log2(count / total) for count in counter.values())\n",
    "\n",
    "# Function to calculate information gain\n",
    "def information_gain(X, y, feature):\n",
    "    total_entropy = entropy(y)\n",
    "    values, counts = np.unique(X[:, feature], return_counts=True)\n",
    "    weighted_entropy = sum((counts[i] / np.sum(counts)) * entropy(y[X[:, feature] == values[i]]) for i in range(len(values)))\n",
    "    return total_entropy - weighted_entropy\n",
    "\n",
    "# Function to find the best feature to split on\n",
    "def best_feature_to_split(X, y):\n",
    "    gains = [information_gain(X, y, feature) for feature in range(X.shape[1])]\n",
    "    return np.argmax(gains)\n",
    "\n",
    "# ID3 Algorithm to build the decision tree\n",
    "def id3(X, y, features):\n",
    "    if len(np.unique(y)) == 1:\n",
    "        return np.unique(y)[0]\n",
    "    if len(features) == 0:\n",
    "        return Counter(y).most_common(1)[0][0]\n",
    "    \n",
    "    best_feature = best_feature_to_split(X, y)\n",
    "    tree = {best_feature: {}}\n",
    "    \n",
    "    unique_values = np.unique(X[:, best_feature])\n",
    "    for value in unique_values:\n",
    "        sub_X = X[X[:, best_feature] == value]\n",
    "        sub_y = y[X[:, best_feature] == value]\n",
    "        sub_features = [i for i in features if i != best_feature]\n",
    "        subtree = id3(sub_X, sub_y, sub_features)\n",
    "        tree[best_feature][value] = subtree\n",
    "        \n",
    "    return tree\n",
    "\n",
    "# Function to predict using the decision tree\n",
    "def predict(tree, sample):\n",
    "    if not isinstance(tree, dict):\n",
    "        return tree\n",
    "    feature = list(tree.keys())[0]\n",
    "    value = sample[feature]\n",
    "    if value in tree[feature]:\n",
    "        return predict(tree[feature][value], sample)\n",
    "    else:\n",
    "        return Counter(tree[feature].values()).most_common(1)[0][0]\n",
    "\n",
    "# Function to predict for the entire dataset\n",
    "def predict_all(tree, X):\n",
    "    return [predict(tree, sample) for sample in X]\n"
   ]
  },
  {
   "cell_type": "code",
   "execution_count": 3,
   "id": "ed6977b9",
   "metadata": {},
   "outputs": [],
   "source": [
    "data = pd.read_csv('C:/Users/marya/OneDrive/Desktop/Classification_project1/preprocessed_green_tripdata_2015-07.csv')\n",
    "\n",
    "# Discretize the trip price into three categories: low, medium, high\n",
    "price_quantiles = data['total_amount'].quantile([0.33, 0.67]).values\n",
    "data['price_category'] = pd.cut(data['total_amount'], bins=[-np.inf, price_quantiles[0], price_quantiles[1], np.inf], labels=[0, 1, 2])\n",
    "\n",
    "# Select only numeric features\n",
    "numeric_features = data.select_dtypes(include=[np.number]).drop(['total_amount'], axis=1)\n",
    "\n",
    "# Handle missing values by filling them with the mean of the column\n",
    "numeric_features = numeric_features.fillna(numeric_features.mean())\n",
    "\n",
    "# Scale features and apply PCA for dimensionality reduction\n",
    "scaler = StandardScaler()\n",
    "X_scaled = scaler.fit_transform(numeric_features)\n",
    "\n",
    "pca = PCA(n_components=10)\n",
    "X_pca = pca.fit_transform(X_scaled)\n",
    "\n",
    "# Split the data into training and testing sets\n",
    "X_train, X_test, y_train, y_test = train_test_split(X_pca, data['price_category'], test_size=0.2, stratify=data['price_category'], random_state=42)\n"
   ]
  },
  {
   "cell_type": "code",
   "execution_count": 4,
   "id": "fb1741c3",
   "metadata": {},
   "outputs": [],
   "source": [
    "# Train the decision tree\n",
    "features = list(range(X_train.shape[1]))\n",
    "tree = id3(X_train, y_train, features)"
   ]
  },
  {
   "cell_type": "code",
   "execution_count": 5,
   "id": "d868376a",
   "metadata": {},
   "outputs": [],
   "source": [
    "# Predict on the test data\n",
    "y_pred = predict_all(tree, X_test)"
   ]
  },
  {
   "cell_type": "code",
   "execution_count": 8,
   "id": "cf4c2fc2",
   "metadata": {},
   "outputs": [
    {
     "name": "stdout",
     "output_type": "stream",
     "text": [
      "Decision Tree Testing Accuracy: 0.3535299461423658\n",
      "Decision Tree Testing Precision: 0.7844470407511981\n",
      "Decision Tree Testing Recall: 0.3336291659679325\n",
      "Confusion Matrix:\n",
      "[[21775     0     0]\n",
      " [19541     1     0]\n",
      " [20310     0    17]]\n",
      "True Low:  21775 False Medium:  0 False High:  0\n",
      "False Low:  19541 True Medium:  1 False High:  0\n",
      "False Low:  20310 False Medium:  0 True High:  17\n"
     ]
    }
   ],
   "source": [
    "# Evaluate the model\n",
    "accuracy = accuracy_score(y_test, y_pred)\n",
    "precision = precision_score(y_test, y_pred, average='macro', zero_division=0)\n",
    "recall = recall_score(y_test, y_pred, average='macro')\n",
    "#f1 = f1_score(y_test, y_pred, average='macro')\n",
    "conf_matrix = confusion_matrix(y_test, y_pred)\n",
    "\n",
    "# Print the evaluation metrics\n",
    "print(\"Decision Tree Testing Accuracy:\", accuracy)\n",
    "print(\"Decision Tree Testing Precision:\", precision)\n",
    "print(\"Decision Tree Testing Recall:\", recall)\n",
    "#print(\"Decision Tree Testing F1 Score:\", f1)\n",
    "\n",
    "print(\"Confusion Matrix:\")\n",
    "print(conf_matrix)\n",
    "print(\"True Low: \", conf_matrix[0, 0], \"False Medium: \", conf_matrix[0, 1], \"False High: \", conf_matrix[0, 2])\n",
    "print(\"False Low: \", conf_matrix[1, 0], \"True Medium: \", conf_matrix[1, 1], \"False High: \", conf_matrix[1, 2])\n",
    "print(\"False Low: \", conf_matrix[2, 0], \"False Medium: \", conf_matrix[2, 1], \"True High: \", conf_matrix[2, 2])"
   ]
  }
 ],
 "metadata": {
  "kernelspec": {
   "display_name": "Python 3 (ipykernel)",
   "language": "python",
   "name": "python3"
  },
  "language_info": {
   "codemirror_mode": {
    "name": "ipython",
    "version": 3
   },
   "file_extension": ".py",
   "mimetype": "text/x-python",
   "name": "python",
   "nbconvert_exporter": "python",
   "pygments_lexer": "ipython3",
   "version": "3.10.9"
  }
 },
 "nbformat": 4,
 "nbformat_minor": 5
}
