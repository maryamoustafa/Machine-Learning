{
 "cells": [
  {
   "cell_type": "code",
   "execution_count": 1,
   "id": "eb831a93",
   "metadata": {},
   "outputs": [],
   "source": [
    "import pandas as pd\n",
    "from sklearn.model_selection import train_test_split, StratifiedKFold, cross_val_score\n",
    "from sklearn.ensemble import RandomForestClassifier\n",
    "from sklearn.metrics import accuracy_score, precision_score, recall_score, confusion_matrix, classification_report\n",
    "from sklearn.impute import SimpleImputer\n",
    "\n",
    "file_path = 'C:/Users/marya/OneDrive/Desktop/Classification_project1/preprocessed_green_tripdata_2015-07.csv'\n",
    "data = pd.read_csv(file_path)\n",
    "\n",
    "# Create the price_category column based on total_amount quantiles\n",
    "quantiles = data['total_amount'].quantile([0.33, 0.66])\n",
    "def categorize_price(amount):\n",
    "    if amount <= quantiles[0.33]:\n",
    "        return 'Low'\n",
    "    elif amount <= quantiles[0.66]:\n",
    "        return 'Medium'\n",
    "    else:\n",
    "        return 'High'\n",
    "\n",
    "data['price_category'] = data['total_amount'].apply(categorize_price)\n",
    "\n",
    "y = data['price_category']\n",
    "\n",
    "# Drop or convert non-numeric columns\n",
    "non_numeric_columns = ['lpep_pickup_datetime', 'lpep_dropoff_datetime', 'store_and_fwd_flag', 'pickup_datetime', 'dropoff_datetime']\n",
    "data = data.drop(columns=non_numeric_columns)\n",
    "\n",
    "# Convert categorical variables to numeric using one-hot encoding\n",
    "X = pd.get_dummies(data.drop('price_category', axis=1), drop_first=True)\n",
    "\n",
    "# Check for missing values and impute them\n",
    "imputer = SimpleImputer(strategy='mean')\n",
    "X = imputer.fit_transform(X)\n",
    "\n",
    "# Initialize the Random Forest classifier\n",
    "rf_classifier = RandomForestClassifier(n_estimators=100, random_state=42)\n"
   ]
  },
  {
   "cell_type": "code",
   "execution_count": 2,
   "id": "1906079d",
   "metadata": {},
   "outputs": [],
   "source": [
    "# Perform k-fold cross-validation\n",
    "kf = StratifiedKFold(n_splits=5, shuffle=True, random_state=42)\n",
    "cv_results = cross_val_score(rf_classifier, X, y, cv=kf, scoring='accuracy')\n",
    "\n",
    "accuracies = []\n",
    "precisions = []\n",
    "recalls = []\n",
    "conf_matrices = []\n",
    "\n",
    "for train_index, test_index in kf.split(X, y):\n",
    "    X_train, X_test = X[train_index], X[test_index]\n",
    "    y_train, y_test = y[train_index], y[test_index]\n",
    "    \n",
    "    rf_classifier.fit(X_train, y_train)\n",
    "    y_pred = rf_classifier.predict(X_test)\n",
    "    \n",
    "    accuracies.append(accuracy_score(y_test, y_pred))\n",
    "    precisions.append(precision_score(y_test, y_pred, average='weighted', zero_division=0))\n",
    "    recalls.append(recall_score(y_test, y_pred, average='weighted'))\n",
    "    conf_matrices.append(confusion_matrix(y_test, y_pred))\n"
   ]
  },
  {
   "cell_type": "code",
   "execution_count": 3,
   "id": "68bfcf09",
   "metadata": {},
   "outputs": [],
   "source": [
    "avg_accuracy = sum(accuracies) / len(accuracies)\n",
    "avg_precision = sum(precisions) / len(precisions)\n",
    "avg_recall = sum(recalls) / len(recalls)\n",
    "avg_conf_matrix = sum(conf_matrices)\n",
    "\n",
    "class_report = classification_report(y_test, y_pred, output_dict=True)\n",
    "report_df = pd.DataFrame(class_report).transpose()"
   ]
  },
  {
   "cell_type": "code",
   "execution_count": 4,
   "id": "f4748cce",
   "metadata": {},
   "outputs": [
    {
     "name": "stdout",
     "output_type": "stream",
     "text": [
      "Class  Accuracy  Precision    Recall\n",
      "0     Low  1.000000  1.000000\n",
      "1     Medium  0.999897  1.000000\n",
      "2     High  1.000000  0.999902\n",
      "Average Testing Accuracy: 0.9999545778989034\n",
      "Average Testing Precision: 0.9999545831857505\n",
      "Average Testing Recall: 0.9999545778989034\n",
      "Average Confusion Matrix:\n",
      "[[101799      0     11]\n",
      " [     0 108874      1]\n",
      " [     0      2  97533]]\n",
      "True Low:  20360 False Medium:  0 False High:  2\n",
      "False Low:  0 True Medium:  21775 False High:  0\n",
      "False Low:  0 False Medium:  0 True High:  19507\n"
     ]
    }
   ],
   "source": [
    "print(\"Class  Accuracy  Precision    Recall\")\n",
    "for i, category in enumerate(['Low', 'Medium', 'High']):\n",
    "    print(f\"{i}     {category}  {report_df.loc[category, 'precision']:.6f}  {report_df.loc[category, 'recall']:.6f}\")\n",
    "\n",
    "print(f\"Average Testing Accuracy: {avg_accuracy}\")\n",
    "print(f\"Average Testing Precision: {avg_precision}\")\n",
    "print(f\"Average Testing Recall: {avg_recall}\")\n",
    "print(\"Average Confusion Matrix:\")\n",
    "print(avg_conf_matrix)\n",
    "\n",
    "print(f\"True Low:  {conf_matrices[-1][0, 0]} False Medium:  {conf_matrices[-1][0, 1]} False High:  {conf_matrices[-1][0, 2]}\")\n",
    "print(f\"False Low:  {conf_matrices[-1][1, 0]} True Medium:  {conf_matrices[-1][1, 1]} False High:  {conf_matrices[-1][1, 2]}\")\n",
    "print(f\"False Low:  {conf_matrices[-1][2, 0]} False Medium:  {conf_matrices[-1][2, 1]} True High:  {conf_matrices[-1][2, 2]}\")"
   ]
  },
  {
   "cell_type": "code",
   "execution_count": null,
   "id": "ef74a10e",
   "metadata": {},
   "outputs": [],
   "source": []
  }
 ],
 "metadata": {
  "kernelspec": {
   "display_name": "Python 3 (ipykernel)",
   "language": "python",
   "name": "python3"
  },
  "language_info": {
   "codemirror_mode": {
    "name": "ipython",
    "version": 3
   },
   "file_extension": ".py",
   "mimetype": "text/x-python",
   "name": "python",
   "nbconvert_exporter": "python",
   "pygments_lexer": "ipython3",
   "version": "3.10.9"
  }
 },
 "nbformat": 4,
 "nbformat_minor": 5
}
