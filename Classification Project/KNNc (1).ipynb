{
 "cells": [
  {
   "cell_type": "code",
   "execution_count": 1,
   "id": "f35d2022",
   "metadata": {},
   "outputs": [
    {
     "name": "stdout",
     "output_type": "stream",
     "text": [
      "  lpep_pickup_datetime lpep_dropoff_datetime  store_and_fwd_flag  \\\n",
      "0  2015-07-01 00:12:55   2015-07-01 00:16:53                   0   \n",
      "1  2015-07-01 00:38:35   2015-07-01 00:49:22                   0   \n",
      "2  2015-07-01 00:59:01   2015-07-01 01:04:10                   0   \n",
      "3  2015-07-01 00:48:41   2015-07-01 00:54:24                   0   \n",
      "4  2015-07-01 00:56:28   2015-07-01 01:07:45                   0   \n",
      "\n",
      "                             pu_location  \\\n",
      "0     Brooklyn,Williamsburg (South Side)   \n",
      "1     Brooklyn,Williamsburg (South Side)   \n",
      "2                Brooklyn,Bushwick North   \n",
      "3                   Brooklyn,Brownsville   \n",
      "4  Brooklyn,East Flatbush/Remsen Village   \n",
      "\n",
      "                             do_location  passenger_count  trip_distance  \\\n",
      "0                Brooklyn,Bushwick South              1.0           0.88   \n",
      "1                       Queens,Ridgewood              1.0           3.00   \n",
      "2             Brooklyn,East Williamsburg              1.0           1.61   \n",
      "3  Brooklyn,East Flatbush/Remsen Village              1.0           0.68   \n",
      "4                   Brooklyn,Brownsville              1.0           0.68   \n",
      "\n",
      "   fare_amount  extra  mta_tax  ...  payment_type_Uknown  \\\n",
      "0          5.0    0.5      0.5  ...                False   \n",
      "1         11.0    0.5      0.5  ...                False   \n",
      "2          6.5    0.5      0.5  ...                False   \n",
      "3          5.0    0.5      0.5  ...                False   \n",
      "4          8.0    0.5      0.5  ...                False   \n",
      "\n",
      "   rate_type_Group ride  rate_type_JFK  rate_type_Nassau or Westchester  \\\n",
      "0                 False          False                            False   \n",
      "1                 False          False                            False   \n",
      "2                 False          False                            False   \n",
      "3                 False          False                            False   \n",
      "4                 False          False                            False   \n",
      "\n",
      "  rate_type_Negotiated fare rate_type_Newark  rate_type_Standard rate  \\\n",
      "0                     False            False                     True   \n",
      "1                     False            False                     True   \n",
      "2                     False            False                     True   \n",
      "3                     False            False                     True   \n",
      "4                     False            False                     True   \n",
      "\n",
      "   pickup_loc_encoded  dropoff_loc_encoded day_type  \n",
      "0                 101                   54  Weekday  \n",
      "1                 101                  222  Weekday  \n",
      "2                  53                   71  Weekday  \n",
      "3                  52                   68  Weekday  \n",
      "4                  68                   52  Weekday  \n",
      "\n",
      "[5 rows x 38 columns]\n"
     ]
    }
   ],
   "source": [
    "import numpy as np\n",
    "import pandas as pd\n",
    "from sklearn.neighbors import KNeighborsClassifier\n",
    "from sklearn.model_selection import StratifiedKFold, train_test_split\n",
    "from sklearn.metrics import accuracy_score, precision_score, recall_score, confusion_matrix\n",
    "from sklearn.decomposition import PCA\n",
    "from sklearn.preprocessing import StandardScaler, LabelEncoder\n",
    "from sklearn.impute import SimpleImputer\n",
    "\n",
    "data = pd.read_csv(\"C:/Users/marya/OneDrive/Desktop/Classification_project1/preprocessed_green_tripdata_2015-07.csv\")\n",
    "\n",
    "# Display the first few rows to understand the structure\n",
    "print(data.head())\n",
    "\n",
    "# Identify and drop non-numeric columns, or convert them if necessary\n",
    "# For example, drop datetime columns or encode categorical columns\n",
    "# Assuming the last column is the target and all others are features\n",
    "X = data.iloc[:, :-1].select_dtypes(include=[np.number])  # Select only numeric columns\n",
    "y = data.iloc[:, -1]\n",
    "\n",
    "# Handle missing values by imputing with the mean of the column\n",
    "imputer = SimpleImputer(strategy='mean')\n",
    "X_imputed = imputer.fit_transform(X)\n",
    "\n",
    "# Encode the target variable if it is categorical\n",
    "if y.dtype == 'O':\n",
    "    le = LabelEncoder()\n",
    "    y = le.fit_transform(y)\n",
    "\n",
    "# Scale features and apply PCA for dimensionality reduction\n",
    "scaler = StandardScaler()\n",
    "X_scaled = scaler.fit_transform(X_imputed)\n",
    "\n",
    "pca = PCA(n_components=15)\n",
    "X_pca = pca.fit_transform(X_scaled)\n",
    "\n",
    "# If imbalanced-learn is not available, proceed without resampling\n",
    "X = pd.DataFrame(X_pca)\n",
    "y = pd.Series(y)\n",
    "\n",
    "X_train, X_test, y_train, y_test = train_test_split(X, y, test_size=0.15, random_state=10)\n"
   ]
  },
  {
   "cell_type": "code",
   "execution_count": 2,
   "id": "523fd076",
   "metadata": {},
   "outputs": [],
   "source": [
    "# Define parameter grid for KNN\n",
    "params = {\n",
    "    'n_neighbors': [3, 5, 7, 9],\n",
    "    'weights': ['uniform', 'distance'],\n",
    "    'metric': ['euclidean', 'manhattan', 'minkowski']\n",
    "}\n",
    "\n",
    "# Cross-validation setup\n",
    "kfold = StratifiedKFold(n_splits=10, shuffle=True, random_state=10)\n",
    "best_accuracy = 0\n",
    "best_model = None\n",
    "\n",
    "# Perform grid search with cross-validation\n",
    "for k in params['n_neighbors']:\n",
    "    for weight in params['weights']:\n",
    "        for metric in params['metric']:\n",
    "            cv_accuracies = []\n",
    "            for train_idx, val_idx in kfold.split(X_train, y_train):\n",
    "                model = KNeighborsClassifier(n_neighbors=k, weights=weight, metric=metric)\n",
    "                model.fit(X_train.iloc[train_idx], y_train.iloc[train_idx])\n",
    "                y_val_pred = model.predict(X_train.iloc[val_idx])\n",
    "                accuracy = accuracy_score(y_train.iloc[val_idx], y_val_pred)\n",
    "                cv_accuracies.append(accuracy)\n",
    "            avg_accuracy = np.mean(cv_accuracies)\n",
    "            if avg_accuracy > best_accuracy:\n",
    "                best_accuracy = avg_accuracy\n",
    "                best_model = {'k': k, 'weight': weight, 'metric': metric}\n"
   ]
  },
  {
   "cell_type": "code",
   "execution_count": 3,
   "id": "bb318169",
   "metadata": {},
   "outputs": [
    {
     "data": {
      "text/html": [
       "<style>#sk-container-id-1 {color: black;background-color: white;}#sk-container-id-1 pre{padding: 0;}#sk-container-id-1 div.sk-toggleable {background-color: white;}#sk-container-id-1 label.sk-toggleable__label {cursor: pointer;display: block;width: 100%;margin-bottom: 0;padding: 0.3em;box-sizing: border-box;text-align: center;}#sk-container-id-1 label.sk-toggleable__label-arrow:before {content: \"▸\";float: left;margin-right: 0.25em;color: #696969;}#sk-container-id-1 label.sk-toggleable__label-arrow:hover:before {color: black;}#sk-container-id-1 div.sk-estimator:hover label.sk-toggleable__label-arrow:before {color: black;}#sk-container-id-1 div.sk-toggleable__content {max-height: 0;max-width: 0;overflow: hidden;text-align: left;background-color: #f0f8ff;}#sk-container-id-1 div.sk-toggleable__content pre {margin: 0.2em;color: black;border-radius: 0.25em;background-color: #f0f8ff;}#sk-container-id-1 input.sk-toggleable__control:checked~div.sk-toggleable__content {max-height: 200px;max-width: 100%;overflow: auto;}#sk-container-id-1 input.sk-toggleable__control:checked~label.sk-toggleable__label-arrow:before {content: \"▾\";}#sk-container-id-1 div.sk-estimator input.sk-toggleable__control:checked~label.sk-toggleable__label {background-color: #d4ebff;}#sk-container-id-1 div.sk-label input.sk-toggleable__control:checked~label.sk-toggleable__label {background-color: #d4ebff;}#sk-container-id-1 input.sk-hidden--visually {border: 0;clip: rect(1px 1px 1px 1px);clip: rect(1px, 1px, 1px, 1px);height: 1px;margin: -1px;overflow: hidden;padding: 0;position: absolute;width: 1px;}#sk-container-id-1 div.sk-estimator {font-family: monospace;background-color: #f0f8ff;border: 1px dotted black;border-radius: 0.25em;box-sizing: border-box;margin-bottom: 0.5em;}#sk-container-id-1 div.sk-estimator:hover {background-color: #d4ebff;}#sk-container-id-1 div.sk-parallel-item::after {content: \"\";width: 100%;border-bottom: 1px solid gray;flex-grow: 1;}#sk-container-id-1 div.sk-label:hover label.sk-toggleable__label {background-color: #d4ebff;}#sk-container-id-1 div.sk-serial::before {content: \"\";position: absolute;border-left: 1px solid gray;box-sizing: border-box;top: 0;bottom: 0;left: 50%;z-index: 0;}#sk-container-id-1 div.sk-serial {display: flex;flex-direction: column;align-items: center;background-color: white;padding-right: 0.2em;padding-left: 0.2em;position: relative;}#sk-container-id-1 div.sk-item {position: relative;z-index: 1;}#sk-container-id-1 div.sk-parallel {display: flex;align-items: stretch;justify-content: center;background-color: white;position: relative;}#sk-container-id-1 div.sk-item::before, #sk-container-id-1 div.sk-parallel-item::before {content: \"\";position: absolute;border-left: 1px solid gray;box-sizing: border-box;top: 0;bottom: 0;left: 50%;z-index: -1;}#sk-container-id-1 div.sk-parallel-item {display: flex;flex-direction: column;z-index: 1;position: relative;background-color: white;}#sk-container-id-1 div.sk-parallel-item:first-child::after {align-self: flex-end;width: 50%;}#sk-container-id-1 div.sk-parallel-item:last-child::after {align-self: flex-start;width: 50%;}#sk-container-id-1 div.sk-parallel-item:only-child::after {width: 0;}#sk-container-id-1 div.sk-dashed-wrapped {border: 1px dashed gray;margin: 0 0.4em 0.5em 0.4em;box-sizing: border-box;padding-bottom: 0.4em;background-color: white;}#sk-container-id-1 div.sk-label label {font-family: monospace;font-weight: bold;display: inline-block;line-height: 1.2em;}#sk-container-id-1 div.sk-label-container {text-align: center;}#sk-container-id-1 div.sk-container {/* jupyter's `normalize.less` sets `[hidden] { display: none; }` but bootstrap.min.css set `[hidden] { display: none !important; }` so we also need the `!important` here to be able to override the default hidden behavior on the sphinx rendered scikit-learn.org. See: https://github.com/scikit-learn/scikit-learn/issues/21755 */display: inline-block !important;position: relative;}#sk-container-id-1 div.sk-text-repr-fallback {display: none;}</style><div id=\"sk-container-id-1\" class=\"sk-top-container\"><div class=\"sk-text-repr-fallback\"><pre>KNeighborsClassifier(metric=&#x27;manhattan&#x27;, n_neighbors=9)</pre><b>In a Jupyter environment, please rerun this cell to show the HTML representation or trust the notebook. <br />On GitHub, the HTML representation is unable to render, please try loading this page with nbviewer.org.</b></div><div class=\"sk-container\" hidden><div class=\"sk-item\"><div class=\"sk-estimator sk-toggleable\"><input class=\"sk-toggleable__control sk-hidden--visually\" id=\"sk-estimator-id-1\" type=\"checkbox\" checked><label for=\"sk-estimator-id-1\" class=\"sk-toggleable__label sk-toggleable__label-arrow\">KNeighborsClassifier</label><div class=\"sk-toggleable__content\"><pre>KNeighborsClassifier(metric=&#x27;manhattan&#x27;, n_neighbors=9)</pre></div></div></div></div></div>"
      ],
      "text/plain": [
       "KNeighborsClassifier(metric='manhattan', n_neighbors=9)"
      ]
     },
     "execution_count": 3,
     "metadata": {},
     "output_type": "execute_result"
    }
   ],
   "source": [
    "# Train the best model on the entire training set\n",
    "final_model = KNeighborsClassifier(n_neighbors=best_model['k'], weights=best_model['weight'], metric=best_model['metric'])\n",
    "final_model.fit(X_train, y_train)"
   ]
  },
  {
   "cell_type": "code",
   "execution_count": 4,
   "id": "eeef82ed",
   "metadata": {},
   "outputs": [
    {
     "name": "stdout",
     "output_type": "stream",
     "text": [
      "Testing Accuracy: 0.7477343023381567\n",
      "Testing Precision: 0.7409897832207132\n",
      "Testing Recall: 0.7398702788026204\n",
      "Confusion Matrix:\n",
      "[[21172  5676     0]\n",
      " [ 5987 13398     0]\n",
      " [    0     0     0]]\n",
      "True Low:  21172 False Medium:  5676 False High:  0\n",
      "False Low:  5987 True Medium:  13398 False High:  0\n",
      "False Low:  0 False Medium:  0 True High:  0\n"
     ]
    }
   ],
   "source": [
    "# Evaluate the model on the test set\n",
    "y_pred = final_model.predict(X_test)\n",
    "accuracy = accuracy_score(y_test, y_pred)\n",
    "precision = precision_score(y_test, y_pred, average='macro', zero_division=0)\n",
    "recall = recall_score(y_test, y_pred, average='macro')\n",
    "conf_matrix = confusion_matrix(y_test, y_pred, labels=[0, 1, 2])\n",
    "\n",
    "# Print the evaluation metrics\n",
    "print(\"Testing Accuracy:\", accuracy)\n",
    "print(\"Testing Precision:\", precision)\n",
    "print(\"Testing Recall:\", recall)\n",
    "print(\"Confusion Matrix:\")\n",
    "print(conf_matrix)\n",
    "print(\"True Low: \", conf_matrix[0, 0], \"False Medium: \", conf_matrix[0, 1], \"False High: \", conf_matrix[0, 2])\n",
    "print(\"False Low: \", conf_matrix[1, 0], \"True Medium: \", conf_matrix[1, 1], \"False High: \", conf_matrix[1, 2])\n",
    "print(\"False Low: \", conf_matrix[2, 0], \"False Medium: \", conf_matrix[2, 1], \"True High: \", conf_matrix[2, 2])"
   ]
  },
  {
   "cell_type": "code",
   "execution_count": 7,
   "id": "640fd1df",
   "metadata": {},
   "outputs": [
    {
     "name": "stdout",
     "output_type": "stream",
     "text": [
      "    Class  Accuracy  Precision    Recall\n",
      "0     Low  0.747734   0.779557  0.788588\n",
      "1  Medium  0.747734   0.702422  0.691153\n",
      "2    High  1.000000   0.000000  0.000000\n"
     ]
    }
   ],
   "source": [
    "class_labels = {0: 'Low', 1: 'Medium', 2: 'High'}\n",
    "results = []\n",
    "\n",
    "for class_label in class_labels.keys():\n",
    "    y_test_binary = (y_test == class_label).astype(int)\n",
    "    y_pred_binary = (y_pred == class_label).astype(int)\n",
    "    \n",
    "    accuracy = accuracy_score(y_test_binary, y_pred_binary)\n",
    "    precision = precision_score(y_test_binary, y_pred_binary, zero_division=0)\n",
    "    recall = recall_score(y_test_binary, y_pred_binary, zero_division=0)\n",
    "   # f1 = f1_score(y_test_binary, y_pred_binary, zero_division=0)\n",
    "    \n",
    "    results.append((class_labels[class_label], accuracy, precision, recall))\n",
    "\n",
    "results_df = pd.DataFrame(results, columns=['Class', 'Accuracy', 'Precision', 'Recall'])\n",
    "print(results_df)"
   ]
  },
  {
   "cell_type": "code",
   "execution_count": null,
   "id": "9344b8d0",
   "metadata": {},
   "outputs": [],
   "source": []
  }
 ],
 "metadata": {
  "kernelspec": {
   "display_name": "Python 3 (ipykernel)",
   "language": "python",
   "name": "python3"
  },
  "language_info": {
   "codemirror_mode": {
    "name": "ipython",
    "version": 3
   },
   "file_extension": ".py",
   "mimetype": "text/x-python",
   "name": "python",
   "nbconvert_exporter": "python",
   "pygments_lexer": "ipython3",
   "version": "3.10.9"
  }
 },
 "nbformat": 4,
 "nbformat_minor": 5
}
