{
 "cells": [
  {
   "cell_type": "code",
   "execution_count": 6,
   "id": "a5d3a4c4",
   "metadata": {},
   "outputs": [],
   "source": [
    "import pandas as pd\n",
    "import numpy as np\n",
    "from sklearn.preprocessing import StandardScaler\n",
    "from sklearn.model_selection import train_test_split\n",
    "from sklearn.metrics import accuracy_score, precision_score, recall_score, f1_score\n",
    "\n",
    "data = pd.read_csv('C:/Users/marya/OneDrive/Desktop/Classification_project1/preprocessed_green_tripdata_2015-07.csv')\n",
    "\n",
    "# Discretize the trip price into three categories: low, medium, high\n",
    "price_quantiles = data['total_amount'].quantile([0.33, 0.67]).values\n",
    "data['price_category'] = pd.cut(data['total_amount'], bins=[-np.inf, price_quantiles[0], price_quantiles[1], np.inf], labels=[0, 1, 2])\n",
    "\n",
    "# Select only numeric features\n",
    "numeric_features = data.select_dtypes(include=[np.number]).drop(['total_amount'], axis=1)\n",
    "\n",
    "# Handle missing values by filling them with the mean of the column\n",
    "numeric_features = numeric_features.fillna(numeric_features.mean())\n",
    "\n",
    "# Standardize the features\n",
    "scaler = StandardScaler()\n",
    "features = scaler.fit_transform(numeric_features)\n",
    "\n",
    "# Split the data into training and testing sets\n",
    "X_train, X_test, y_train, y_test = train_test_split(features, data['price_category'], test_size=0.2, random_state=42)\n"
   ]
  },
  {
   "cell_type": "code",
   "execution_count": 7,
   "id": "ae97bde9",
   "metadata": {},
   "outputs": [],
   "source": [
    "class GaussianNaiveBayes:\n",
    "    def __init__(self, epsilon=1e-9):\n",
    "        self.epsilon = epsilon  # Small value to avoid division by zero\n",
    "\n",
    "    def fit(self, X, y):\n",
    "        self.classes = np.unique(y)\n",
    "        self.mean = np.zeros((len(self.classes), X.shape[1]), dtype=np.float64)\n",
    "        self.var = np.zeros((len(self.classes), X.shape[1]), dtype=np.float64)\n",
    "        self.priors = np.zeros(len(self.classes), dtype=np.float64)\n",
    "        \n",
    "        for idx, c in enumerate(self.classes):\n",
    "            X_c = X[y == c]\n",
    "            self.mean[idx, :] = X_c.mean(axis=0)\n",
    "            self.var[idx, :] = X_c.var(axis=0) + self.epsilon  # Adding epsilon to variance\n",
    "            self.priors[idx] = X_c.shape[0] / float(X.shape[0])\n",
    "    \n",
    "    def predict(self, X):\n",
    "        y_pred = [self._predict(x) for x in X]\n",
    "        return np.array(y_pred)\n",
    "    \n",
    "    def _predict(self, x):\n",
    "        posteriors = []\n",
    "        \n",
    "        for idx, c in enumerate(self.classes):\n",
    "            prior = np.log(self.priors[idx])\n",
    "            posterior = np.sum(np.log(self._pdf(idx, x)))\n",
    "            posterior = prior + posterior\n",
    "            posteriors.append(posterior)\n",
    "        \n",
    "        return self.classes[np.argmax(posteriors)]\n",
    "    \n",
    "    def _pdf(self, class_idx, x):\n",
    "        mean = self.mean[class_idx]\n",
    "        var = self.var[class_idx]\n",
    "        numerator = np.exp(- (x - mean) ** 2 / (2 * var))\n",
    "        denominator = np.sqrt(2 * np.pi * var)\n",
    "        return numerator / denominator\n"
   ]
  },
  {
   "cell_type": "code",
   "execution_count": 8,
   "id": "bc9aa95b",
   "metadata": {},
   "outputs": [
    {
     "name": "stderr",
     "output_type": "stream",
     "text": [
      "C:\\Users\\marya\\AppData\\Local\\Temp\\ipykernel_19072\\2427961893.py:26: RuntimeWarning: divide by zero encountered in log\n",
      "  posterior = np.sum(np.log(self._pdf(idx, x)))\n"
     ]
    },
    {
     "name": "stdout",
     "output_type": "stream",
     "text": [
      "    Class  Accuracy  Precision    Recall  F1 Score\n",
      "0     Low  0.919116   0.825093  0.977269  0.894757\n",
      "1  Medium  0.860457   0.793836  0.757519  0.775252\n",
      "2    High  0.939069   0.981120  0.831623  0.900207\n"
     ]
    }
   ],
   "source": [
    "nb_model = GaussianNaiveBayes()\n",
    "\n",
    "nb_model.fit(X_train, y_train)\n",
    "\n",
    "y_pred = nb_model.predict(X_test)\n",
    "\n",
    "class_labels = {0: 'Low', 1: 'Medium', 2: 'High'}\n",
    "results = []\n",
    "\n",
    "for class_label in class_labels.keys():\n",
    "    y_test_binary = (y_test == class_label).astype(int)\n",
    "    y_pred_binary = (y_pred == class_label).astype(int)\n",
    "    \n",
    "    accuracy = accuracy_score(y_test_binary, y_pred_binary)\n",
    "    precision = precision_score(y_test_binary, y_pred_binary, zero_division=0)\n",
    "    recall = recall_score(y_test_binary, y_pred_binary, zero_division=0)\n",
    "    f1 = f1_score(y_test_binary, y_pred_binary, zero_division=0)\n",
    "    \n",
    "    results.append((class_labels[class_label], accuracy, precision, recall, f1))\n",
    "\n",
    "results_df = pd.DataFrame(results, columns=['Class', 'Accuracy', 'Precision', 'Recall', 'F1 Score'])\n",
    "print(results_df)\n"
   ]
  },
  {
   "cell_type": "code",
   "execution_count": null,
   "id": "973b1d82",
   "metadata": {},
   "outputs": [],
   "source": []
  }
 ],
 "metadata": {
  "kernelspec": {
   "display_name": "Python 3 (ipykernel)",
   "language": "python",
   "name": "python3"
  },
  "language_info": {
   "codemirror_mode": {
    "name": "ipython",
    "version": 3
   },
   "file_extension": ".py",
   "mimetype": "text/x-python",
   "name": "python",
   "nbconvert_exporter": "python",
   "pygments_lexer": "ipython3",
   "version": "3.10.9"
  }
 },
 "nbformat": 4,
 "nbformat_minor": 5
}
