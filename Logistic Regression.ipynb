{
 "cells": [
  {
   "cell_type": "code",
   "execution_count": 9,
   "id": "7f696984",
   "metadata": {},
   "outputs": [],
   "source": [
    "import pandas as pd\n",
    "import numpy as np\n",
    "from sklearn.preprocessing import StandardScaler\n",
    "from sklearn.model_selection import train_test_split\n",
    "from sklearn.metrics import accuracy_score, precision_score, recall_score, f1_score\n",
    "\n",
    "# Load the data\n",
    "data = pd.read_csv('C:/Users/marya/OneDrive/Desktop/Classification_project1/preprocessed_green_tripdata_2015-07.csv')\n",
    "\n",
    "# Discretize the trip price into three categories: low, medium, high\n",
    "price_quantiles = data['total_amount'].quantile([0.33, 0.67]).values\n",
    "data['price_category'] = pd.cut(data['total_amount'], bins=[-np.inf, price_quantiles[0], price_quantiles[1], np.inf], labels=[0, 1, 2])\n",
    "\n",
    "# Select only numeric features\n",
    "numeric_features = data.select_dtypes(include=[np.number]).drop(['total_amount'], axis=1)\n",
    "\n",
    "# Handle missing values by filling them with the mean of the column\n",
    "numeric_features = numeric_features.fillna(numeric_features.mean())\n",
    "\n",
    "# Standardize the features\n",
    "scaler = StandardScaler()\n",
    "features = scaler.fit_transform(numeric_features)\n",
    "\n",
    "# Split the data into training and testing sets\n",
    "X_train, X_test, y_train, y_test = train_test_split(features, data['price_category'], test_size=0.2, random_state=42)\n"
   ]
  },
  {
   "cell_type": "code",
   "execution_count": 10,
   "id": "4d83e5d7",
   "metadata": {},
   "outputs": [],
   "source": [
    "class LogisticRegression:\n",
    "    def __init__(self, learning_rate=0.01, iterations=1000):\n",
    "        self.learning_rate = learning_rate\n",
    "        self.iterations = iterations\n",
    "    \n",
    "    def sigmoid(self, z):\n",
    "        return 1 / (1 + np.exp(-z))\n",
    "    \n",
    "    def fit(self, X, y):\n",
    "        self.m, self.n = X.shape\n",
    "        self.weights = np.zeros(self.n)\n",
    "        self.bias = 0\n",
    "        self.y = y\n",
    "        \n",
    "        # Gradient descent\n",
    "        for _ in range(self.iterations):\n",
    "            model = np.dot(X, self.weights) + self.bias\n",
    "            predictions = self.sigmoid(model)\n",
    "            \n",
    "            dw = (1 / self.m) * np.dot(X.T, (predictions - y))\n",
    "            db = (1 / self.m) * np.sum(predictions - y)\n",
    "            \n",
    "            self.weights -= self.learning_rate * dw\n",
    "            self.bias -= self.learning_rate * db\n",
    "    \n",
    "    def predict(self, X):\n",
    "        model = np.dot(X, self.weights) + self.bias\n",
    "        predictions = self.sigmoid(model)\n",
    "        return [1 if i > 0.5 else 0 for i in predictions]\n",
    "    \n",
    "    def predict_proba(self, X):\n",
    "        model = np.dot(X, self.weights) + self.bias\n",
    "        return self.sigmoid(model)\n"
   ]
  },
  {
   "cell_type": "code",
   "execution_count": 11,
   "id": "fa648bef",
   "metadata": {},
   "outputs": [
    {
     "name": "stdout",
     "output_type": "stream",
     "text": [
      "    Class  Accuracy  Precision    Recall  F1 Score\n",
      "0     Low  0.890533   0.765195  0.993821  0.864650\n",
      "1  Medium  0.682094   0.071429  0.000051  0.000102\n",
      "2    High  0.974872   0.972203  0.951156  0.961564\n"
     ]
    }
   ],
   "source": [
    "# Convert target variable to binary for logistic regression\n",
    "# We will do one-vs-rest classification for the multi-class problem\n",
    "\n",
    "def one_vs_rest_labels(y, target_class):\n",
    "    return np.where(y == target_class, 1, 0)\n",
    "\n",
    "# Initialize the logistic regression model\n",
    "lr_model = LogisticRegression(learning_rate=0.01, iterations=1000)\n",
    "\n",
    "# Train and evaluate the model for each class\n",
    "results = []\n",
    "class_labels = {0: 'Low', 1: 'Medium', 2: 'High'}\n",
    "\n",
    "for class_label in [0, 1, 2]:\n",
    "    y_train_binary = one_vs_rest_labels(y_train, class_label)\n",
    "    y_test_binary = one_vs_rest_labels(y_test, class_label)\n",
    "    \n",
    "    lr_model.fit(X_train, y_train_binary)\n",
    "    y_pred = lr_model.predict(X_test)\n",
    "    \n",
    "    accuracy = accuracy_score(y_test_binary, y_pred)\n",
    "    precision = precision_score(y_test_binary, y_pred)\n",
    "    recall = recall_score(y_test_binary, y_pred)\n",
    "    f1 = f1_score(y_test_binary, y_pred)\n",
    "    \n",
    "    results.append((class_labels[class_label], accuracy, precision, recall, f1))\n",
    "\n",
    "# Display the results\n",
    "results_df = pd.DataFrame(results, columns=['Class', 'Accuracy', 'Precision', 'Recall', 'F1 Score'])\n",
    "print(results_df)\n"
   ]
  },
  {
   "cell_type": "code",
   "execution_count": null,
   "id": "4fdec97e",
   "metadata": {},
   "outputs": [],
   "source": []
  }
 ],
 "metadata": {
  "kernelspec": {
   "display_name": "Python 3 (ipykernel)",
   "language": "python",
   "name": "python3"
  },
  "language_info": {
   "codemirror_mode": {
    "name": "ipython",
    "version": 3
   },
   "file_extension": ".py",
   "mimetype": "text/x-python",
   "name": "python",
   "nbconvert_exporter": "python",
   "pygments_lexer": "ipython3",
   "version": "3.10.9"
  }
 },
 "nbformat": 4,
 "nbformat_minor": 5
}
